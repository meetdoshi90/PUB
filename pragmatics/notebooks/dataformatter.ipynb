{
 "cells": [
  {
   "cell_type": "code",
   "execution_count": 1,
   "metadata": {},
   "outputs": [],
   "source": [
    "import json"
   ]
  },
  {
   "cell_type": "code",
   "execution_count": 44,
   "metadata": {},
   "outputs": [],
   "source": [
    "file = open(\"./../data/impl_dial_test_v0.1.json\")\n",
    "dev = json.load(file)"
   ]
  },
  {
   "cell_type": "code",
   "execution_count": 51,
   "metadata": {},
   "outputs": [
    {
     "data": {
      "text/html": [
       "<div>\n",
       "<style scoped>\n",
       "    .dataframe tbody tr th:only-of-type {\n",
       "        vertical-align: middle;\n",
       "    }\n",
       "\n",
       "    .dataframe tbody tr th {\n",
       "        vertical-align: top;\n",
       "    }\n",
       "\n",
       "    .dataframe thead th {\n",
       "        text-align: right;\n",
       "    }\n",
       "</style>\n",
       "<table border=\"1\" class=\"dataframe\">\n",
       "  <thead>\n",
       "    <tr style=\"text-align: right;\">\n",
       "      <th></th>\n",
       "      <th>data</th>\n",
       "      <th>split</th>\n",
       "      <th>version</th>\n",
       "    </tr>\n",
       "  </thead>\n",
       "  <tbody>\n",
       "    <tr>\n",
       "      <th>dialogs</th>\n",
       "      <td>[{'dialog_id': 0, 'dialog': [{'question': 'are...</td>\n",
       "      <td>dev</td>\n",
       "      <td>v0.1</td>\n",
       "    </tr>\n",
       "  </tbody>\n",
       "</table>\n",
       "</div>"
      ],
      "text/plain": [
       "                                                      data split version\n",
       "dialogs  [{'dialog_id': 0, 'dialog': [{'question': 'are...   dev    v0.1"
      ]
     },
     "execution_count": 51,
     "metadata": {},
     "output_type": "execute_result"
    }
   ],
   "source": [
    "import pandas as pd\n",
    "df = pd.read_json(\"./../data/impl_dial_dev_v0.1.json\")\n",
    "df.head()"
   ]
  },
  {
   "cell_type": "code",
   "execution_count": 20,
   "metadata": {},
   "outputs": [
    {
     "data": {
      "text/plain": [
       "[{'question': 'are some of the onions in the kitchen',\n",
       "  'answer': 'Jacob said he left four there',\n",
       "  'explict_answer': 'four of the onions are in the kitchen',\n",
       "  'option': ['Jacob was not in the kitchen',\n",
       "   'four of the onions are in the kitchen',\n",
       "   'I am not sure how many onions are in the kitchen',\n",
       "   'all of the onions are in the kitchen'],\n",
       "  'answer_index': 1},\n",
       " {'question': 'where did you go',\n",
       "  'answer': 'I journeyed to the garden',\n",
       "  'explict_answer': 'I journeyed to the garden',\n",
       "  'option': ['I was in the kitchen',\n",
       "   'I was not in the kitchen',\n",
       "   'I journeyed to the garden',\n",
       "   \"I don't know\"],\n",
       "  'answer_index': 2}]"
      ]
     },
     "execution_count": 20,
     "metadata": {},
     "output_type": "execute_result"
    }
   ],
   "source": [
    "df['data']['dialogs'][0]['dialog'][:2]"
   ]
  },
  {
   "cell_type": "code",
   "execution_count": 25,
   "metadata": {},
   "outputs": [
    {
     "name": "stdout",
     "output_type": "stream",
     "text": [
      "Speaker 1: are some of the onions in the kitchen\n",
      "Speaker 2: Jacob said he left four there\n",
      "Choose an apprpriate option based on the conversaton above:\n",
      "Option A: Jacob was not in the kitchen\n",
      "Option B: four of the onions are in the kitchen\n",
      "Option C: I am not sure how many onions are in the kitchen\n",
      "Option D: all of the onions are in the kitchen\n",
      "Correct option= B: four of the onions are in the kitchen\n",
      "Speaker 1: where did you go\n",
      "Speaker 2: I journeyed to the garden\n",
      "Choose an apprpriate option based on the conversaton above:\n",
      "Option A: I was in the kitchen\n",
      "Option B: I was not in the kitchen\n",
      "Option C: I journeyed to the garden\n",
      "Option D: I don't know\n",
      "Correct option= C: I journeyed to the garden\n"
     ]
    }
   ],
   "source": [
    "for j in df['data']['dialogs'][0]['dialog'][:2]:\n",
    "    s = \"Speaker 1: \" + j['question'] + \"\\n\"\n",
    "    s+= \"Speaker 2: \" + j['answer'] + \"\\n\"\n",
    "    s+= \"Choose an apprpriate option based on the conversaton above:\\n\"\n",
    "    for k in range(len(j['option'])):\n",
    "        s+= \"Option \" + str(chr(int(ord('A'))+k)) + \": \" + j['option'][k]+ \"\\n\"\n",
    "    s+= \"Correct option= \" + str(chr(int(ord('A'))+j['answer_index']))+\": \"+j['option'][j['answer_index']]\n",
    "    print(s)\n",
    "    "
   ]
  },
  {
   "cell_type": "code",
   "execution_count": 27,
   "metadata": {},
   "outputs": [
    {
     "name": "stdout",
     "output_type": "stream",
     "text": [
      "Speaker 1: did Ava put them in the garden\n",
      "Speaker 2: she didn't\n",
      "Choose an apprpriate option based on the conversaton above:\n"
     ]
    }
   ],
   "source": []
  },
  {
   "cell_type": "code",
   "execution_count": 32,
   "metadata": {},
   "outputs": [
    {
     "name": "stdout",
     "output_type": "stream",
     "text": [
      "Option A: Ava put the pears in the garden\n",
      "Option B: I don't know if Ava put the pears in the garden\n",
      "Option C: I didn't put the pears in the cellar\n",
      "Option D: Ava didn't put the pears in the garden\n"
     ]
    }
   ],
   "source": [
    "\n",
    "for k in range(len(que['option'])):\n",
    "    s = \"\"\n",
    "    s= \"Option \" + str(chr(int(ord('A'))+k)) + \": \" + que['option'][k]\n",
    "    print(s)"
   ]
  },
  {
   "cell_type": "code",
   "execution_count": 52,
   "metadata": {},
   "outputs": [
    {
     "data": {
      "text/html": [
       "<div>\n",
       "<style scoped>\n",
       "    .dataframe tbody tr th:only-of-type {\n",
       "        vertical-align: middle;\n",
       "    }\n",
       "\n",
       "    .dataframe tbody tr th {\n",
       "        vertical-align: top;\n",
       "    }\n",
       "\n",
       "    .dataframe thead th {\n",
       "        text-align: right;\n",
       "    }\n",
       "</style>\n",
       "<table border=\"1\" class=\"dataframe\">\n",
       "  <thead>\n",
       "    <tr style=\"text-align: right;\">\n",
       "      <th></th>\n",
       "      <th>context</th>\n",
       "      <th>question</th>\n",
       "      <th>option1</th>\n",
       "      <th>option2</th>\n",
       "      <th>option3</th>\n",
       "      <th>option4</th>\n",
       "      <th>answer</th>\n",
       "    </tr>\n",
       "  </thead>\n",
       "  <tbody>\n",
       "    <tr>\n",
       "      <th>0</th>\n",
       "      <td>Speaker 1: are some of the onions in the kitch...</td>\n",
       "      <td>Speaker 1: how many pears are in the cellar\\nS...</td>\n",
       "      <td>Option A: all of the pears are in the cellar</td>\n",
       "      <td>Option B: three of the pears are in the cellar</td>\n",
       "      <td>Option C: I am not sure how many pears are in ...</td>\n",
       "      <td>Option D: three pears are in the cellar</td>\n",
       "      <td>Option C: I am not sure how many pears are in ...</td>\n",
       "    </tr>\n",
       "    <tr>\n",
       "      <th>1</th>\n",
       "      <td>Speaker 1: are all the spinaches in the closet...</td>\n",
       "      <td>Speaker 1: where are the melons\\nSpeaker 2: Av...</td>\n",
       "      <td>Option A: I am not sure where the melons are</td>\n",
       "      <td>Option B: I don't know where the melons are</td>\n",
       "      <td>Option C: the melons are in the master_bedroom</td>\n",
       "      <td>Option D: the melons are not in the master_bed...</td>\n",
       "      <td>Option C: the melons are in the master_bedroom</td>\n",
       "    </tr>\n",
       "    <tr>\n",
       "      <th>2</th>\n",
       "      <td>Speaker 1: did Charlotte go to the study \\nSpe...</td>\n",
       "      <td>Speaker 1: where can I get the cherries\\nSpeak...</td>\n",
       "      <td>Option A: I was in the pantry</td>\n",
       "      <td>Option B: I am not sure where the cherries are</td>\n",
       "      <td>Option C: the cherries are in the pantry</td>\n",
       "      <td>Option D: I was not in the garden</td>\n",
       "      <td>Option B: I am not sure where the cherries are</td>\n",
       "    </tr>\n",
       "    <tr>\n",
       "      <th>3</th>\n",
       "      <td>Speaker 1: did Ella go to the staircase \\nSpea...</td>\n",
       "      <td>Speaker 1: did Ella leave them there\\nSpeaker ...</td>\n",
       "      <td>Option A: Ella didn't leave the cucumbers in t...</td>\n",
       "      <td>Option B: Ella leave the cucumbers in the work...</td>\n",
       "      <td>Option C: the lemons are not in the workshop</td>\n",
       "      <td>Option D: Ella left the cucumbers and also the...</td>\n",
       "      <td>Option D: Ella left the cucumbers and also the...</td>\n",
       "    </tr>\n",
       "    <tr>\n",
       "      <th>4</th>\n",
       "      <td>Speaker 1: where did you see Benjamin\\nSpeaker...</td>\n",
       "      <td>Speaker 1: did Benjamin place them there\\nSpea...</td>\n",
       "      <td>Option A: Benjamin placed the asparagus in the...</td>\n",
       "      <td>Option B: I place the asparagus in the basement</td>\n",
       "      <td>Option C: the asparagus are in the basement</td>\n",
       "      <td>Option D: I placed the asparagus in the baseme...</td>\n",
       "      <td>Option A: Benjamin placed the asparagus in the...</td>\n",
       "    </tr>\n",
       "  </tbody>\n",
       "</table>\n",
       "</div>"
      ],
      "text/plain": [
       "                                             context  \\\n",
       "0  Speaker 1: are some of the onions in the kitch...   \n",
       "1  Speaker 1: are all the spinaches in the closet...   \n",
       "2  Speaker 1: did Charlotte go to the study \\nSpe...   \n",
       "3  Speaker 1: did Ella go to the staircase \\nSpea...   \n",
       "4  Speaker 1: where did you see Benjamin\\nSpeaker...   \n",
       "\n",
       "                                            question  \\\n",
       "0  Speaker 1: how many pears are in the cellar\\nS...   \n",
       "1  Speaker 1: where are the melons\\nSpeaker 2: Av...   \n",
       "2  Speaker 1: where can I get the cherries\\nSpeak...   \n",
       "3  Speaker 1: did Ella leave them there\\nSpeaker ...   \n",
       "4  Speaker 1: did Benjamin place them there\\nSpea...   \n",
       "\n",
       "                                             option1  \\\n",
       "0       Option A: all of the pears are in the cellar   \n",
       "1       Option A: I am not sure where the melons are   \n",
       "2                      Option A: I was in the pantry   \n",
       "3  Option A: Ella didn't leave the cucumbers in t...   \n",
       "4  Option A: Benjamin placed the asparagus in the...   \n",
       "\n",
       "                                             option2  \\\n",
       "0     Option B: three of the pears are in the cellar   \n",
       "1        Option B: I don't know where the melons are   \n",
       "2     Option B: I am not sure where the cherries are   \n",
       "3  Option B: Ella leave the cucumbers in the work...   \n",
       "4    Option B: I place the asparagus in the basement   \n",
       "\n",
       "                                             option3  \\\n",
       "0  Option C: I am not sure how many pears are in ...   \n",
       "1     Option C: the melons are in the master_bedroom   \n",
       "2           Option C: the cherries are in the pantry   \n",
       "3       Option C: the lemons are not in the workshop   \n",
       "4        Option C: the asparagus are in the basement   \n",
       "\n",
       "                                             option4  \\\n",
       "0            Option D: three pears are in the cellar   \n",
       "1  Option D: the melons are not in the master_bed...   \n",
       "2                  Option D: I was not in the garden   \n",
       "3  Option D: Ella left the cucumbers and also the...   \n",
       "4  Option D: I placed the asparagus in the baseme...   \n",
       "\n",
       "                                              answer  \n",
       "0  Option C: I am not sure how many pears are in ...  \n",
       "1     Option C: the melons are in the master_bedroom  \n",
       "2     Option B: I am not sure where the cherries are  \n",
       "3  Option D: Ella left the cucumbers and also the...  \n",
       "4  Option A: Benjamin placed the asparagus in the...  "
      ]
     },
     "execution_count": 52,
     "metadata": {},
     "output_type": "execute_result"
    }
   ],
   "source": [
    "contexts = []\n",
    "question = []\n",
    "o1 = []\n",
    "o2 = []\n",
    "o3 = []\n",
    "o4 = []\n",
    "answer = []\n",
    "for conv in df['data']['dialogs']:\n",
    "    context = conv['dialog'][:2]\n",
    "    s = \"\"\n",
    "    for j in context:\n",
    "        s+= \"Speaker 1: \" + j['question'] + \"\\n\"\n",
    "        s+= \"Speaker 2: \" + j['answer'] + \"\\n\"\n",
    "        s+= \"Choose an apprpriate option based on the conversaton above:\\n\"\n",
    "        for k in range(len(j['option'])):\n",
    "            s+= \"Option \" + str(chr(int(ord('A'))+k)) + \": \" + j['option'][k]+ \"\\n\"\n",
    "        s+= \"Correct option= \" + str(chr(int(ord('A'))+j['answer_index']))+\": \"+j['option'][j['answer_index']] + \"\\n\"\n",
    "    contexts.append(s)\n",
    "    \n",
    "    que = conv['dialog'][2]\n",
    "    s = \"Speaker 1: \" + que['question'] + \"\\n\"\n",
    "    s+= \"Speaker 2: \" + que['answer'] + \"\\n\"\n",
    "    s+= \"Choose an apprpriate option based on the conversaton above:\"\n",
    "    question.append(s)\n",
    "    \n",
    "    o1.append(\"Option \" + str(chr(int(ord('A'))+0)) + \": \" + que['option'][0])\n",
    "    o2.append(\"Option \" + str(chr(int(ord('A'))+1)) + \": \" + que['option'][1])\n",
    "    o3.append(\"Option \" + str(chr(int(ord('A'))+2)) + \": \" + que['option'][2])\n",
    "    o4.append(\"Option \" + str(chr(int(ord('A'))+3)) + \": \" + que['option'][3])\n",
    "    \n",
    "    answer.append(\"Option \"+str(chr(int(ord('A'))+que['answer_index']))+\": \"+que['option'][que['answer_index']])\n",
    "    \n",
    "data = pd.DataFrame()\n",
    "data['context'] = contexts\n",
    "data['question'] = question\n",
    "data['option1'] = o1\n",
    "data['option2'] = o2\n",
    "data['option3'] = o3\n",
    "data['option4'] = o4\n",
    "data['answer'] = answer\n",
    "data.head()\n"
   ]
  },
  {
   "cell_type": "code",
   "execution_count": 53,
   "metadata": {},
   "outputs": [],
   "source": [
    "data.to_csv(\"./../data/grice_implicature_recovery_fewshot_dev.csv\",index=False)"
   ]
  },
  {
   "cell_type": "code",
   "execution_count": null,
   "metadata": {},
   "outputs": [],
   "source": []
  }
 ],
 "metadata": {
  "kernelspec": {
   "display_name": "Python 3",
   "language": "python",
   "name": "python3"
  },
  "language_info": {
   "codemirror_mode": {
    "name": "ipython",
    "version": 3
   },
   "file_extension": ".py",
   "mimetype": "text/x-python",
   "name": "python",
   "nbconvert_exporter": "python",
   "pygments_lexer": "ipython3",
   "version": "3.8.10"
  },
  "orig_nbformat": 4
 },
 "nbformat": 4,
 "nbformat_minor": 2
}
