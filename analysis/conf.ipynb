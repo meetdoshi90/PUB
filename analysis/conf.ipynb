{
 "cells": [
  {
   "cell_type": "code",
   "execution_count": 1,
   "id": "0584884d",
   "metadata": {},
   "outputs": [],
   "source": [
    "task = 5\n",
    "shot = 'few'\n",
    "k = 3\n",
    "model = 'llama-2-70b'"
   ]
  },
  {
   "cell_type": "code",
   "execution_count": 2,
   "id": "dd4f20b4",
   "metadata": {},
   "outputs": [],
   "source": [
    "PATH = f'/raid/nlp/pranavg/iclr/Results_backup/generated_texts/task_{task}/{model}/{shot}_shot_k{k}_run0_mcqa.csv'\n",
    "EVAL_PATH = f'/raid/nlp/pranavg/iclr/pragmatics/human_answers/task_{task}_human_dataset.json'"
   ]
  },
  {
   "cell_type": "code",
   "execution_count": 3,
   "id": "8d1de868",
   "metadata": {},
   "outputs": [],
   "source": [
    "import pandas as pd\n",
    "import re\n",
    "\n",
    "data = pd.read_csv(f'{PATH}')"
   ]
  },
  {
   "cell_type": "code",
   "execution_count": 4,
   "id": "b041d848",
   "metadata": {
    "scrolled": true
   },
   "outputs": [
    {
     "data": {
      "text/html": [
       "<div>\n",
       "<style scoped>\n",
       "    .dataframe tbody tr th:only-of-type {\n",
       "        vertical-align: middle;\n",
       "    }\n",
       "\n",
       "    .dataframe tbody tr th {\n",
       "        vertical-align: top;\n",
       "    }\n",
       "\n",
       "    .dataframe thead th {\n",
       "        text-align: right;\n",
       "    }\n",
       "</style>\n",
       "<table border=\"1\" class=\"dataframe\">\n",
       "  <thead>\n",
       "    <tr style=\"text-align: right;\">\n",
       "      <th></th>\n",
       "      <th>Unnamed: 0.1</th>\n",
       "      <th>Unnamed: 0</th>\n",
       "      <th>correct answer</th>\n",
       "      <th>options</th>\n",
       "      <th>pretext</th>\n",
       "      <th>qid</th>\n",
       "      <th>wrapped_zshot</th>\n",
       "      <th>wrapped</th>\n",
       "      <th>correct_options</th>\n",
       "      <th>generate_predictions</th>\n",
       "    </tr>\n",
       "  </thead>\n",
       "  <tbody>\n",
       "    <tr>\n",
       "      <th>0</th>\n",
       "      <td>0</td>\n",
       "      <td>0</td>\n",
       "      <td>Sarcastic</td>\n",
       "      <td>['Agrees', 'Sarcastic']</td>\n",
       "      <td>Speaker_1: The chair was uncomfortable.\\nSpeak...</td>\n",
       "      <td>X1607</td>\n",
       "      <td>Speaker_1: The chair was uncomfortable.\\nSpeak...</td>\n",
       "      <td>Your task is to decide if Speaker_2 Agrees or ...</td>\n",
       "      <td>B</td>\n",
       "      <td>B</td>\n",
       "    </tr>\n",
       "    <tr>\n",
       "      <th>1</th>\n",
       "      <td>1</td>\n",
       "      <td>1</td>\n",
       "      <td>Agrees</td>\n",
       "      <td>['Agrees', 'Sarcastic']</td>\n",
       "      <td>Speaker_1: The idea was very creative\\nSpeaker...</td>\n",
       "      <td>X3149</td>\n",
       "      <td>Speaker_1: The idea was very creative\\nSpeaker...</td>\n",
       "      <td>Your task is to decide if Speaker_2 Agrees or ...</td>\n",
       "      <td>A</td>\n",
       "      <td>B</td>\n",
       "    </tr>\n",
       "    <tr>\n",
       "      <th>2</th>\n",
       "      <td>2</td>\n",
       "      <td>2</td>\n",
       "      <td>Sarcastic</td>\n",
       "      <td>['Agrees', 'Sarcastic']</td>\n",
       "      <td>Speaker_1: The girl had cheap and tacky taste....</td>\n",
       "      <td>1367</td>\n",
       "      <td>Speaker_1: The girl had cheap and tacky taste....</td>\n",
       "      <td>Your task is to decide if Speaker_2 Agrees or ...</td>\n",
       "      <td>B</td>\n",
       "      <td>B</td>\n",
       "    </tr>\n",
       "    <tr>\n",
       "      <th>3</th>\n",
       "      <td>3</td>\n",
       "      <td>3</td>\n",
       "      <td>Agrees</td>\n",
       "      <td>['Agrees', 'Sarcastic']</td>\n",
       "      <td>Speaker_1: The student is unwise\\nSpeaker_2: O...</td>\n",
       "      <td>873</td>\n",
       "      <td>Speaker_1: The student is unwise\\nSpeaker_2: O...</td>\n",
       "      <td>Your task is to decide if Speaker_2 Agrees or ...</td>\n",
       "      <td>A</td>\n",
       "      <td>B</td>\n",
       "    </tr>\n",
       "    <tr>\n",
       "      <th>4</th>\n",
       "      <td>4</td>\n",
       "      <td>4</td>\n",
       "      <td>Sarcastic</td>\n",
       "      <td>['Agrees', 'Sarcastic']</td>\n",
       "      <td>Speaker_1: Her eyes are ugly.\\nSpeaker_2: True...</td>\n",
       "      <td>X700</td>\n",
       "      <td>Speaker_1: Her eyes are ugly.\\nSpeaker_2: True...</td>\n",
       "      <td>Your task is to decide if Speaker_2 Agrees or ...</td>\n",
       "      <td>B</td>\n",
       "      <td>B</td>\n",
       "    </tr>\n",
       "  </tbody>\n",
       "</table>\n",
       "</div>"
      ],
      "text/plain": [
       "   Unnamed: 0.1  Unnamed: 0 correct answer                  options  \\\n",
       "0             0           0      Sarcastic  ['Agrees', 'Sarcastic']   \n",
       "1             1           1         Agrees  ['Agrees', 'Sarcastic']   \n",
       "2             2           2      Sarcastic  ['Agrees', 'Sarcastic']   \n",
       "3             3           3         Agrees  ['Agrees', 'Sarcastic']   \n",
       "4             4           4      Sarcastic  ['Agrees', 'Sarcastic']   \n",
       "\n",
       "                                             pretext    qid  \\\n",
       "0  Speaker_1: The chair was uncomfortable.\\nSpeak...  X1607   \n",
       "1  Speaker_1: The idea was very creative\\nSpeaker...  X3149   \n",
       "2  Speaker_1: The girl had cheap and tacky taste....   1367   \n",
       "3  Speaker_1: The student is unwise\\nSpeaker_2: O...    873   \n",
       "4  Speaker_1: Her eyes are ugly.\\nSpeaker_2: True...   X700   \n",
       "\n",
       "                                       wrapped_zshot  \\\n",
       "0  Speaker_1: The chair was uncomfortable.\\nSpeak...   \n",
       "1  Speaker_1: The idea was very creative\\nSpeaker...   \n",
       "2  Speaker_1: The girl had cheap and tacky taste....   \n",
       "3  Speaker_1: The student is unwise\\nSpeaker_2: O...   \n",
       "4  Speaker_1: Her eyes are ugly.\\nSpeaker_2: True...   \n",
       "\n",
       "                                             wrapped correct_options  \\\n",
       "0  Your task is to decide if Speaker_2 Agrees or ...               B   \n",
       "1  Your task is to decide if Speaker_2 Agrees or ...               A   \n",
       "2  Your task is to decide if Speaker_2 Agrees or ...               B   \n",
       "3  Your task is to decide if Speaker_2 Agrees or ...               A   \n",
       "4  Your task is to decide if Speaker_2 Agrees or ...               B   \n",
       "\n",
       "  generate_predictions  \n",
       "0                    B  \n",
       "1                    B  \n",
       "2                    B  \n",
       "3                    B  \n",
       "4                    B  "
      ]
     },
     "execution_count": 4,
     "metadata": {},
     "output_type": "execute_result"
    }
   ],
   "source": [
    "data.head()"
   ]
  },
  {
   "cell_type": "code",
   "execution_count": 5,
   "id": "3c0b2838",
   "metadata": {},
   "outputs": [],
   "source": [
    "from sklearn.metrics import confusion_matrix, ConfusionMatrixDisplay"
   ]
  },
  {
   "cell_type": "code",
   "execution_count": 6,
   "id": "e603f833",
   "metadata": {},
   "outputs": [],
   "source": [
    "correct = list(data['correct_options'])\n",
    "predicted = list(data['generate_predictions'])\n",
    "labels = sorted(set(list(data['correct_options'])))"
   ]
  },
  {
   "cell_type": "code",
   "execution_count": 7,
   "id": "d77bc56c",
   "metadata": {},
   "outputs": [
    {
     "name": "stdout",
     "output_type": "stream",
     "text": [
      "['A', 'B']\n"
     ]
    }
   ],
   "source": [
    "print(labels)"
   ]
  },
  {
   "cell_type": "code",
   "execution_count": 8,
   "id": "e53da812",
   "metadata": {},
   "outputs": [
    {
     "data": {
      "text/plain": [
       "0.2521251935299273"
      ]
     },
     "execution_count": 8,
     "metadata": {},
     "output_type": "execute_result"
    }
   ],
   "source": [
    "import sklearn\n",
    "sklearn.metrics.matthews_corrcoef(correct,predicted)"
   ]
  },
  {
   "cell_type": "code",
   "execution_count": 9,
   "id": "5bc6247d",
   "metadata": {},
   "outputs": [
    {
     "data": {
      "text/plain": [
       "<sklearn.metrics._plot.confusion_matrix.ConfusionMatrixDisplay at 0x7f29de711010>"
      ]
     },
     "execution_count": 9,
     "metadata": {},
     "output_type": "execute_result"
    },
    {
     "data": {
      "image/png": "[encoded data removed]",
      "text/plain": [
       "<Figure size 640x480 with 2 Axes>"
      ]
     },
     "metadata": {},
     "output_type": "display_data"
    }
   ],
   "source": [
    "cm = confusion_matrix(correct, predicted, labels=labels)\n",
    "ConfusionMatrixDisplay(cm,display_labels=labels).plot()"
   ]
  },
  {
   "cell_type": "code",
   "execution_count": 10,
   "id": "bd6f8af3",
   "metadata": {},
   "outputs": [],
   "source": [
    "df2 = pd.read_json(EVAL_PATH, orient='records')\n",
    "df2['text'] = [i['text'] for i in df2['data']]"
   ]
  },
  {
   "cell_type": "code",
   "execution_count": 11,
   "id": "baac461d",
   "metadata": {},
   "outputs": [
    {
     "data": {
      "text/html": [
       "<div>\n",
       "<style scoped>\n",
       "    .dataframe tbody tr th:only-of-type {\n",
       "        vertical-align: middle;\n",
       "    }\n",
       "\n",
       "    .dataframe tbody tr th {\n",
       "        vertical-align: top;\n",
       "    }\n",
       "\n",
       "    .dataframe thead th {\n",
       "        text-align: right;\n",
       "    }\n",
       "</style>\n",
       "<table border=\"1\" class=\"dataframe\">\n",
       "  <thead>\n",
       "    <tr style=\"text-align: right;\">\n",
       "      <th></th>\n",
       "      <th>data</th>\n",
       "      <th>answer</th>\n",
       "      <th>text</th>\n",
       "    </tr>\n",
       "  </thead>\n",
       "  <tbody>\n",
       "    <tr>\n",
       "      <th>0</th>\n",
       "      <td>{'text': 'Which of the following options is co...</td>\n",
       "      <td>Sarcastic</td>\n",
       "      <td>Which of the following options is correct abou...</td>\n",
       "    </tr>\n",
       "    <tr>\n",
       "      <th>1</th>\n",
       "      <td>{'text': 'Which of the following options is co...</td>\n",
       "      <td>Sarcastic</td>\n",
       "      <td>Which of the following options is correct abou...</td>\n",
       "    </tr>\n",
       "    <tr>\n",
       "      <th>2</th>\n",
       "      <td>{'text': 'Which of the following options is co...</td>\n",
       "      <td>Sarcastic</td>\n",
       "      <td>Which of the following options is correct abou...</td>\n",
       "    </tr>\n",
       "    <tr>\n",
       "      <th>3</th>\n",
       "      <td>{'text': 'Which of the following options is co...</td>\n",
       "      <td>Sarcastic</td>\n",
       "      <td>Which of the following options is correct abou...</td>\n",
       "    </tr>\n",
       "    <tr>\n",
       "      <th>4</th>\n",
       "      <td>{'text': 'Which of the following options is co...</td>\n",
       "      <td>Sarcastic</td>\n",
       "      <td>Which of the following options is correct abou...</td>\n",
       "    </tr>\n",
       "  </tbody>\n",
       "</table>\n",
       "</div>"
      ],
      "text/plain": [
       "                                                data     answer  \\\n",
       "0  {'text': 'Which of the following options is co...  Sarcastic   \n",
       "1  {'text': 'Which of the following options is co...  Sarcastic   \n",
       "2  {'text': 'Which of the following options is co...  Sarcastic   \n",
       "3  {'text': 'Which of the following options is co...  Sarcastic   \n",
       "4  {'text': 'Which of the following options is co...  Sarcastic   \n",
       "\n",
       "                                                text  \n",
       "0  Which of the following options is correct abou...  \n",
       "1  Which of the following options is correct abou...  \n",
       "2  Which of the following options is correct abou...  \n",
       "3  Which of the following options is correct abou...  \n",
       "4  Which of the following options is correct abou...  "
      ]
     },
     "execution_count": 11,
     "metadata": {},
     "output_type": "execute_result"
    }
   ],
   "source": [
    "df2.head()"
   ]
  },
  {
   "cell_type": "code",
   "execution_count": 12,
   "id": "17980811",
   "metadata": {},
   "outputs": [],
   "source": [
    "path = \"\"\n",
    "if task==0:\n",
    "    path = \"/raid/nlp/pranavg/iclr/Human_eval/project-2-at-2023-09-28-14-30-fa04304f.json\"\n",
    "elif task==1:\n",
    "    path = '/raid/nlp/pranavg/iclr/Human_eval/project-3-at-2023-09-28-14-47-2716a422.json'\n",
    "elif task==2:\n",
    "    path = \"/raid/nlp/pranavg/iclr/Human_eval/project-9-at-2023-09-28-14-51-bfc251c0.json\"\n",
    "elif task==3:\n",
    "    path = \"/raid/nlp/pranavg/iclr/Human_eval/project-10-at-2023-09-28-14-52-70c0a31f.json\"\n",
    "elif task == 4:\n",
    "    path = \"/raid/nlp/pranavg/iclr/Human_eval/project-4-at-2023-09-28-14-55-d9d9a9f8.json\"\n",
    "elif task == 5:\n",
    "    path = \"/raid/nlp/pranavg/iclr/Human_eval/project-5-at-2023-09-28-15-03-1abedb7a.json\"\n",
    "elif task == 6:\n",
    "    path = \"/raid/nlp/pranavg/iclr/Human_eval/project-6-at-2023-09-28-15-09-9779d801.json\"\n",
    "elif task == 7:\n",
    "    path = \"/raid/nlp/pranavg/iclr/Human_eval/project-7-at-2023-09-28-15-21-1d2ae190.json\"\n",
    "elif task == 8:\n",
    "    path = \"/raid/nlp/pranavg/iclr/Human_eval/project-20-at-2023-09-28-18-08-400941e2.json\"\n",
    "elif task == 9:\n",
    "    path = \"/raid/nlp/pranavg/iclr/Human_eval/project-11-at-2023-09-28-15-31-6690410d.json\"\n",
    "elif task == 10:\n",
    "    path = \"/raid/nlp/pranavg/iclr/Human_eval/project-12-at-2023-09-28-15-49-0f8c1648.json\"\n",
    "elif task == 11:\n",
    "    path = \"/raid/nlp/pranavg/iclr/Human_eval/project-13-at-2023-09-29-03-49-e928eda7.json\"\n",
    "elif task == 12:\n",
    "    path = \"\"\n",
    "elif task == 13:\n",
    "    path = \"/raid/nlp/pranavg/iclr/Human_eval/project-14-at-2023-09-28-15-34-b61b2b89.json\"\n",
    "elif task == 14:\n",
    "    path = \"/raid/nlp/pranavg/iclr/Human_eval/project-15-at-2023-09-28-15-36-97e9e16d.json\"\n",
    "    \n",
    "df1 = pd.read_json(path, orient='records')\n",
    "corr1 = []\n",
    "corr2 = []\n",
    "corr3 = []\n",
    "for i in range(len(df1)):\n",
    "    try:\n",
    "        corr1.append(df1['annotations'][i][0]['result'][0]['value']['choices'][0])\n",
    "    except:\n",
    "        corr1.append(\"\")\n",
    "    try:\n",
    "        corr2.append(df1['annotations'][i][1]['result'][0]['value']['choices'][0])\n",
    "    except:\n",
    "        corr2.append('')\n",
    "    try:\n",
    "        corr3.append(df1['annotations'][i][2]['result'][0]['value']['choices'][0])\n",
    "    except:\n",
    "        corr3.append('')\n",
    "df1['ann1'] = corr1\n",
    "df1['ann2'] = corr2\n",
    "df1['ann3'] = corr3\n",
    "df1['text'] = [i['text'] for i in df1['data']]"
   ]
  },
  {
   "cell_type": "code",
   "execution_count": 13,
   "id": "7b0aea73",
   "metadata": {},
   "outputs": [],
   "source": [
    "merged_df = df2.merge(df1, left_on='text', right_on='text', how='inner',sort=False)"
   ]
  },
  {
   "cell_type": "code",
   "execution_count": 14,
   "id": "fd827e64",
   "metadata": {
    "scrolled": true
   },
   "outputs": [
    {
     "data": {
      "text/plain": [
       "'Which of the following options is correct about the conversation given below:\\nSpeaker_1: Life is full of wonder and color where the experience is beneficial to all\\nSpeaker_2: Yeah, Life is simply a board game of Risk'"
      ]
     },
     "execution_count": 14,
     "metadata": {},
     "output_type": "execute_result"
    }
   ],
   "source": [
    "merged_df.iloc[0]['text']"
   ]
  },
  {
   "cell_type": "code",
   "execution_count": 15,
   "id": "8b4229cd",
   "metadata": {},
   "outputs": [],
   "source": [
    "merged_df = pd.DataFrame(merged_df)"
   ]
  },
  {
   "cell_type": "code",
   "execution_count": 16,
   "id": "ef242f48",
   "metadata": {},
   "outputs": [],
   "source": [
    "for i in range(len(merged_df)):\n",
    "    if 'answer' not in merged_df.iloc[i]:\n",
    "        print(merged_df.iloc[i])"
   ]
  },
  {
   "cell_type": "code",
   "execution_count": 21,
   "id": "31bdf4f5",
   "metadata": {},
   "outputs": [
    {
     "name": "stdout",
     "output_type": "stream",
     "text": [
      "FOUNDFOUNDFOUNDFOUNDFOUNDFOUNDFOUNDFOUNDFOUNDFOUNDFOUNDFOUNDFOUNDFOUNDFOUNDFOUNDFOUNDFOUNDFOUNDFOUNDFOUNDFOUNDFOUNDFOUNDFOUNDFOUNDFOUNDFOUNDFOUNDFOUNDFOUNDFOUNDFOUNDFOUNDFOUNDFOUNDFOUNDFOUNDFOUNDFOUNDFOUNDFOUNDFOUNDFOUNDFOUNDFOUNDFOUNDFOUNDFOUNDFOUNDFOUNDFOUNDFOUNDFOUNDFOUNDFOUNDFOUNDFOUNDFOUNDFOUNDFOUNDFOUNDFOUNDFOUNDFOUNDFOUNDFOUNDFOUNDFOUNDFOUNDFOUNDFOUNDFOUNDFOUNDFOUNDFOUNDFOUNDFOUNDFOUNDFOUNDFOUNDFOUNDFOUNDFOUNDFOUNDFOUNDFOUNDFOUNDFOUNDFOUNDFOUNDFOUNDFOUNDFOUNDFOUNDFOUNDFOUNDFOUNDFOUNDFOUND\n"
     ]
    }
   ],
   "source": [
    "correct = list(merged_df['answer'])\n",
    "#correct = [x.lower() for x in correct]\n",
    "a1 = list(merged_df['ann1'])\n",
    "a2 = list(merged_df['ann2'])\n",
    "a3 = list(merged_df['ann3'])\n",
    "if '' in a3:\n",
    "    print('FOUND'*100)\n",
    "    a = a1 + a2\n",
    "    correct = correct*2\n",
    "else:\n",
    "    a = a1 + a2 + a3\n",
    "    correct = correct*3\n",
    "#a = [x.split()[1] for x in a]\n",
    "a = ['Sarcastic' if 'sarcastic' in x else 'Agrees' for x in a]\n",
    "labels = sorted(set(list(merged_df['answer'])))\n",
    "#labels = [x.lower() for x in labels]"
   ]
  },
  {
   "cell_type": "code",
   "execution_count": 22,
   "id": "71700c76",
   "metadata": {},
   "outputs": [
    {
     "name": "stdout",
     "output_type": "stream",
     "text": [
      "['Sarcastic', 'Sarcastic', 'Sarcastic', 'Sarcastic', 'Sarcastic', 'Sarcastic', 'Sarcastic', 'Sarcastic', 'Sarcastic', 'Sarcastic', 'Agrees', 'Sarcastic', 'Sarcastic', 'Sarcastic', 'Sarcastic', 'Sarcastic', 'Sarcastic', 'Sarcastic', 'Sarcastic', 'Sarcastic', 'Sarcastic', 'Sarcastic', 'Sarcastic', 'Sarcastic', 'Sarcastic', 'Sarcastic', 'Sarcastic', 'Sarcastic', 'Sarcastic', 'Sarcastic', 'Sarcastic', 'Sarcastic', 'Sarcastic', 'Sarcastic', 'Sarcastic', 'Sarcastic', 'Sarcastic', 'Sarcastic', 'Sarcastic', 'Sarcastic', 'Sarcastic', 'Sarcastic', 'Agrees', 'Sarcastic', 'Sarcastic', 'Sarcastic', 'Sarcastic', 'Sarcastic', 'Sarcastic', 'Sarcastic', 'Sarcastic', 'Agrees', 'Agrees', 'Agrees', 'Agrees', 'Agrees', 'Agrees', 'Agrees', 'Agrees', 'Agrees', 'Agrees', 'Agrees', 'Agrees', 'Agrees', 'Agrees', 'Agrees', 'Agrees', 'Agrees', 'Agrees', 'Agrees', 'Agrees', 'Agrees', 'Agrees', 'Agrees', 'Agrees', 'Agrees', 'Agrees', 'Agrees', 'Agrees', 'Agrees', 'Agrees', 'Agrees', 'Agrees', 'Agrees', 'Agrees', 'Agrees', 'Agrees', 'Agrees', 'Agrees', 'Agrees', 'Agrees', 'Agrees', 'Agrees', 'Agrees', 'Agrees', 'Agrees', 'Agrees', 'Agrees', 'Agrees', 'Agrees', 'Sarcastic', 'Sarcastic', 'Sarcastic', 'Sarcastic', 'Sarcastic', 'Sarcastic', 'Sarcastic', 'Sarcastic', 'Sarcastic', 'Sarcastic', 'Sarcastic', 'Sarcastic', 'Sarcastic', 'Sarcastic', 'Sarcastic', 'Sarcastic', 'Sarcastic', 'Sarcastic', 'Sarcastic', 'Sarcastic', 'Sarcastic', 'Sarcastic', 'Sarcastic', 'Sarcastic', 'Sarcastic', 'Sarcastic', 'Sarcastic', 'Sarcastic', 'Sarcastic', 'Sarcastic', 'Sarcastic', 'Sarcastic', 'Sarcastic', 'Sarcastic', 'Sarcastic', 'Sarcastic', 'Sarcastic', 'Sarcastic', 'Sarcastic', 'Sarcastic', 'Sarcastic', 'Sarcastic', 'Agrees', 'Sarcastic', 'Sarcastic', 'Sarcastic', 'Sarcastic', 'Sarcastic', 'Sarcastic', 'Sarcastic', 'Sarcastic', 'Agrees', 'Agrees', 'Agrees', 'Agrees', 'Agrees', 'Agrees', 'Agrees', 'Agrees', 'Agrees', 'Agrees', 'Agrees', 'Agrees', 'Agrees', 'Agrees', 'Agrees', 'Agrees', 'Agrees', 'Agrees', 'Agrees', 'Agrees', 'Agrees', 'Agrees', 'Agrees', 'Agrees', 'Agrees', 'Agrees', 'Agrees', 'Agrees', 'Agrees', 'Agrees', 'Agrees', 'Agrees', 'Agrees', 'Agrees', 'Agrees', 'Agrees', 'Agrees', 'Agrees', 'Agrees', 'Agrees', 'Agrees', 'Agrees', 'Agrees', 'Agrees', 'Agrees', 'Agrees', 'Agrees', 'Agrees', 'Sarcastic'] ['Sarcastic', 'Sarcastic', 'Sarcastic', 'Sarcastic', 'Sarcastic', 'Sarcastic', 'Sarcastic', 'Sarcastic', 'Sarcastic', 'Sarcastic', 'Sarcastic', 'Sarcastic', 'Sarcastic', 'Sarcastic', 'Sarcastic', 'Sarcastic', 'Sarcastic', 'Sarcastic', 'Sarcastic', 'Sarcastic', 'Sarcastic', 'Sarcastic', 'Sarcastic', 'Sarcastic', 'Sarcastic', 'Sarcastic', 'Sarcastic', 'Sarcastic', 'Sarcastic', 'Sarcastic', 'Sarcastic', 'Sarcastic', 'Sarcastic', 'Sarcastic', 'Sarcastic', 'Sarcastic', 'Sarcastic', 'Sarcastic', 'Sarcastic', 'Sarcastic', 'Sarcastic', 'Sarcastic', 'Sarcastic', 'Sarcastic', 'Sarcastic', 'Sarcastic', 'Sarcastic', 'Sarcastic', 'Sarcastic', 'Sarcastic', 'Agrees', 'Agrees', 'Agrees', 'Agrees', 'Agrees', 'Agrees', 'Agrees', 'Agrees', 'Agrees', 'Agrees', 'Agrees', 'Agrees', 'Agrees', 'Agrees', 'Agrees', 'Agrees', 'Agrees', 'Agrees', 'Agrees', 'Agrees', 'Agrees', 'Agrees', 'Agrees', 'Agrees', 'Agrees', 'Agrees', 'Agrees', 'Agrees', 'Agrees', 'Agrees', 'Agrees', 'Agrees', 'Agrees', 'Agrees', 'Agrees', 'Agrees', 'Agrees', 'Agrees', 'Agrees', 'Agrees', 'Agrees', 'Agrees', 'Agrees', 'Agrees', 'Agrees', 'Agrees', 'Agrees', 'Agrees', 'Agrees', 'Agrees', 'Sarcastic', 'Sarcastic', 'Sarcastic', 'Sarcastic', 'Sarcastic', 'Sarcastic', 'Sarcastic', 'Sarcastic', 'Sarcastic', 'Sarcastic', 'Sarcastic', 'Sarcastic', 'Sarcastic', 'Sarcastic', 'Sarcastic', 'Sarcastic', 'Sarcastic', 'Sarcastic', 'Sarcastic', 'Sarcastic', 'Sarcastic', 'Sarcastic', 'Sarcastic', 'Sarcastic', 'Sarcastic', 'Sarcastic', 'Sarcastic', 'Sarcastic', 'Sarcastic', 'Sarcastic', 'Sarcastic', 'Sarcastic', 'Sarcastic', 'Sarcastic', 'Sarcastic', 'Sarcastic', 'Sarcastic', 'Sarcastic', 'Sarcastic', 'Sarcastic', 'Sarcastic', 'Sarcastic', 'Sarcastic', 'Sarcastic', 'Sarcastic', 'Sarcastic', 'Sarcastic', 'Sarcastic', 'Sarcastic', 'Sarcastic', 'Agrees', 'Agrees', 'Agrees', 'Agrees', 'Agrees', 'Agrees', 'Agrees', 'Agrees', 'Agrees', 'Agrees', 'Agrees', 'Agrees', 'Agrees', 'Agrees', 'Agrees', 'Agrees', 'Agrees', 'Agrees', 'Agrees', 'Agrees', 'Agrees', 'Agrees', 'Agrees', 'Agrees', 'Agrees', 'Agrees', 'Agrees', 'Agrees', 'Agrees', 'Agrees', 'Agrees', 'Agrees', 'Agrees', 'Agrees', 'Agrees', 'Agrees', 'Agrees', 'Agrees', 'Agrees', 'Agrees', 'Agrees', 'Agrees', 'Agrees', 'Agrees', 'Agrees', 'Agrees', 'Agrees', 'Agrees', 'Agrees', 'Agrees']\n"
     ]
    }
   ],
   "source": [
    "print(a,correct)"
   ]
  },
  {
   "cell_type": "code",
   "execution_count": 23,
   "id": "5c6a28f9",
   "metadata": {},
   "outputs": [
    {
     "data": {
      "text/plain": [
       "<sklearn.metrics._plot.confusion_matrix.ConfusionMatrixDisplay at 0x7f291f0209d0>"
      ]
     },
     "execution_count": 23,
     "metadata": {},
     "output_type": "execute_result"
    },
    {
     "data": {
      "image/png": "[encoded data removed]",
      "text/plain": [
       "<Figure size 640x480 with 2 Axes>"
      ]
     },
     "metadata": {},
     "output_type": "display_data"
    }
   ],
   "source": [
    "cm = confusion_matrix(correct, a, labels=labels)\n",
    "ConfusionMatrixDisplay(cm,display_labels=labels).plot()"
   ]
  },
  {
   "cell_type": "code",
   "execution_count": 24,
   "id": "0a9c5333",
   "metadata": {},
   "outputs": [
    {
     "data": {
      "text/plain": [
       "0.94"
      ]
     },
     "execution_count": 24,
     "metadata": {},
     "output_type": "execute_result"
    }
   ],
   "source": [
    "import sklearn\n",
    "sklearn.metrics.matthews_corrcoef(correct,a)"
   ]
  },
  {
   "cell_type": "code",
   "execution_count": null,
   "id": "bec10e52",
   "metadata": {},
   "outputs": [],
   "source": []
  }
 ],
 "metadata": {
  "kernelspec": {
   "display_name": "Python 3 (ipykernel)",
   "language": "python",
   "name": "python3"
  },
  "language_info": {
   "codemirror_mode": {
    "name": "ipython",
    "version": 3
   },
   "file_extension": ".py",
   "mimetype": "text/x-python",
   "name": "python",
   "nbconvert_exporter": "python",
   "pygments_lexer": "ipython3",
   "version": "3.11.4"
  }
 },
 "nbformat": 4,
 "nbformat_minor": 5
}
